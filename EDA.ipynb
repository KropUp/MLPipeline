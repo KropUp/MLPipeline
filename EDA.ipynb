{
 "cells": [
  {
   "cell_type": "code",
   "execution_count": 468,
   "id": "6afcce3a",
   "metadata": {},
   "outputs": [],
   "source": [
    "import pandas as pd\n",
    "import numpy as np\n",
    "from sklearn.metrics import mean_absolute_error\n",
    "from sklearn.preprocessing import OneHotEncoder\n",
    "import seaborn as sns\n",
    "import os\n",
    "import matplotlib.pyplot as plt\n",
    "\n",
    "sns.set_theme()"
   ]
  },
  {
   "cell_type": "code",
   "execution_count": 533,
   "id": "61b23134",
   "metadata": {},
   "outputs": [],
   "source": [
    "df = pd.read_csv(\"data_files/train.csv\")\n",
    "val_df = pd.read_csv(\"data_files/val.csv\")\n",
    "\n",
    "df[\"region\"] = df[\"region\"].replace('0', \"Other\")"
   ]
  },
  {
   "cell_type": "code",
   "execution_count": 451,
   "id": "03784bac",
   "metadata": {},
   "outputs": [],
   "source": [
    "# df[\"revenue\"] = df[\"revenue\"].apply(lambda x: x if x < border else border)"
   ]
  },
  {
   "cell_type": "code",
   "execution_count": 534,
   "id": "cf021f91",
   "metadata": {},
   "outputs": [],
   "source": [
    "df[\"log_revenue\"] = np.log(df[\"revenue\"] + 1)\n",
    "y = df[\"log_revenue\"]"
   ]
  },
  {
   "cell_type": "code",
   "execution_count": 535,
   "id": "49b2f57d",
   "metadata": {},
   "outputs": [
    {
     "data": {
      "text/html": [
       "<div>\n",
       "<style scoped>\n",
       "    .dataframe tbody tr th:only-of-type {\n",
       "        vertical-align: middle;\n",
       "    }\n",
       "\n",
       "    .dataframe tbody tr th {\n",
       "        vertical-align: top;\n",
       "    }\n",
       "\n",
       "    .dataframe thead th {\n",
       "        text-align: right;\n",
       "    }\n",
       "</style>\n",
       "<table border=\"1\" class=\"dataframe\">\n",
       "  <thead>\n",
       "    <tr style=\"text-align: right;\">\n",
       "      <th></th>\n",
       "      <th>user</th>\n",
       "      <th>accounts_count</th>\n",
       "      <th>deposit_count</th>\n",
       "      <th>withdrawal_count</th>\n",
       "      <th>trade_sum_usd</th>\n",
       "      <th>trade_profit_usd</th>\n",
       "      <th>trades_count</th>\n",
       "      <th>revenue</th>\n",
       "      <th>region</th>\n",
       "      <th>device</th>\n",
       "      <th>log_revenue</th>\n",
       "    </tr>\n",
       "  </thead>\n",
       "  <tbody>\n",
       "    <tr>\n",
       "      <th>0</th>\n",
       "      <td>0064320d</td>\n",
       "      <td>2.0</td>\n",
       "      <td>2.0</td>\n",
       "      <td>0.0</td>\n",
       "      <td>1.690858e+05</td>\n",
       "      <td>61.98</td>\n",
       "      <td>52.0</td>\n",
       "      <td>272.575580</td>\n",
       "      <td>Middle-Earth</td>\n",
       "      <td>Web</td>\n",
       "      <td>5.611578</td>\n",
       "    </tr>\n",
       "    <tr>\n",
       "      <th>1</th>\n",
       "      <td>00667485</td>\n",
       "      <td>1.0</td>\n",
       "      <td>0.0</td>\n",
       "      <td>0.0</td>\n",
       "      <td>0.000000e+00</td>\n",
       "      <td>0.00</td>\n",
       "      <td>0.0</td>\n",
       "      <td>688.525868</td>\n",
       "      <td>Narnia</td>\n",
       "      <td>Web</td>\n",
       "      <td>6.536004</td>\n",
       "    </tr>\n",
       "    <tr>\n",
       "      <th>2</th>\n",
       "      <td>007a1435</td>\n",
       "      <td>1.0</td>\n",
       "      <td>12.0</td>\n",
       "      <td>3.0</td>\n",
       "      <td>9.951514e+06</td>\n",
       "      <td>234.73</td>\n",
       "      <td>221.0</td>\n",
       "      <td>697.083600</td>\n",
       "      <td>Middle-Earth</td>\n",
       "      <td>Web</td>\n",
       "      <td>6.548339</td>\n",
       "    </tr>\n",
       "    <tr>\n",
       "      <th>3</th>\n",
       "      <td>01c07c64</td>\n",
       "      <td>2.0</td>\n",
       "      <td>0.0</td>\n",
       "      <td>0.0</td>\n",
       "      <td>0.000000e+00</td>\n",
       "      <td>0.00</td>\n",
       "      <td>0.0</td>\n",
       "      <td>521.601752</td>\n",
       "      <td>Narnia</td>\n",
       "      <td>Web</td>\n",
       "      <td>6.258820</td>\n",
       "    </tr>\n",
       "    <tr>\n",
       "      <th>4</th>\n",
       "      <td>01e9a5cc</td>\n",
       "      <td>4.0</td>\n",
       "      <td>6.0</td>\n",
       "      <td>3.0</td>\n",
       "      <td>0.000000e+00</td>\n",
       "      <td>0.00</td>\n",
       "      <td>0.0</td>\n",
       "      <td>2411.195140</td>\n",
       "      <td>Oz</td>\n",
       "      <td>Web</td>\n",
       "      <td>7.788292</td>\n",
       "    </tr>\n",
       "  </tbody>\n",
       "</table>\n",
       "</div>"
      ],
      "text/plain": [
       "       user  accounts_count  deposit_count  withdrawal_count  trade_sum_usd  \\\n",
       "0  0064320d             2.0            2.0               0.0   1.690858e+05   \n",
       "1  00667485             1.0            0.0               0.0   0.000000e+00   \n",
       "2  007a1435             1.0           12.0               3.0   9.951514e+06   \n",
       "3  01c07c64             2.0            0.0               0.0   0.000000e+00   \n",
       "4  01e9a5cc             4.0            6.0               3.0   0.000000e+00   \n",
       "\n",
       "   trade_profit_usd  trades_count      revenue        region device  \\\n",
       "0             61.98          52.0   272.575580  Middle-Earth    Web   \n",
       "1              0.00           0.0   688.525868        Narnia    Web   \n",
       "2            234.73         221.0   697.083600  Middle-Earth    Web   \n",
       "3              0.00           0.0   521.601752        Narnia    Web   \n",
       "4              0.00           0.0  2411.195140            Oz    Web   \n",
       "\n",
       "   log_revenue  \n",
       "0     5.611578  \n",
       "1     6.536004  \n",
       "2     6.548339  \n",
       "3     6.258820  \n",
       "4     7.788292  "
      ]
     },
     "execution_count": 535,
     "metadata": {},
     "output_type": "execute_result"
    }
   ],
   "source": [
    "df.head(5)"
   ]
  },
  {
   "cell_type": "code",
   "execution_count": 522,
   "id": "e0ea7d24",
   "metadata": {},
   "outputs": [],
   "source": [
    "enc = OneHotEncoder(handle_unknown='ignore')\n",
    "enc.fit(df[\"region\"].values.reshape(-1, 1))\n",
    "oh_features = enc.transform(df[\"region\"].values.reshape(-1, 1)).toarray()\n",
    "\n",
    "for i, category in enumerate(enc.categories_[0]):\n",
    "    df[\"region\" + '_' + category] = oh_features[:, i]\n",
    "df.drop(\"region\", axis=1, inplace=True)"
   ]
  },
  {
   "cell_type": "code",
   "execution_count": 523,
   "id": "d9200766",
   "metadata": {},
   "outputs": [
    {
     "data": {
      "text/html": [
       "<div>\n",
       "<style scoped>\n",
       "    .dataframe tbody tr th:only-of-type {\n",
       "        vertical-align: middle;\n",
       "    }\n",
       "\n",
       "    .dataframe tbody tr th {\n",
       "        vertical-align: top;\n",
       "    }\n",
       "\n",
       "    .dataframe thead th {\n",
       "        text-align: right;\n",
       "    }\n",
       "</style>\n",
       "<table border=\"1\" class=\"dataframe\">\n",
       "  <thead>\n",
       "    <tr style=\"text-align: right;\">\n",
       "      <th></th>\n",
       "      <th>user</th>\n",
       "      <th>accounts_count</th>\n",
       "      <th>deposit_count</th>\n",
       "      <th>withdrawal_count</th>\n",
       "      <th>trade_sum_usd</th>\n",
       "      <th>trade_profit_usd</th>\n",
       "      <th>trades_count</th>\n",
       "      <th>revenue</th>\n",
       "      <th>device</th>\n",
       "      <th>log_revenue</th>\n",
       "      <th>...</th>\n",
       "      <th>region_Forgotten Realms</th>\n",
       "      <th>region_Galaxy Far Far Away</th>\n",
       "      <th>region_Hyboria</th>\n",
       "      <th>region_Middle-Earth</th>\n",
       "      <th>region_Narnia</th>\n",
       "      <th>region_Neverwinter</th>\n",
       "      <th>region_Other</th>\n",
       "      <th>region_Oz</th>\n",
       "      <th>region_Randland</th>\n",
       "      <th>region_Westeros</th>\n",
       "    </tr>\n",
       "  </thead>\n",
       "  <tbody>\n",
       "    <tr>\n",
       "      <th>0</th>\n",
       "      <td>0064320d</td>\n",
       "      <td>2.0</td>\n",
       "      <td>2.0</td>\n",
       "      <td>0.0</td>\n",
       "      <td>1.690858e+05</td>\n",
       "      <td>61.98</td>\n",
       "      <td>52.0</td>\n",
       "      <td>272.575580</td>\n",
       "      <td>Web</td>\n",
       "      <td>5.611578</td>\n",
       "      <td>...</td>\n",
       "      <td>0.0</td>\n",
       "      <td>0.0</td>\n",
       "      <td>0.0</td>\n",
       "      <td>1.0</td>\n",
       "      <td>0.0</td>\n",
       "      <td>0.0</td>\n",
       "      <td>0.0</td>\n",
       "      <td>0.0</td>\n",
       "      <td>0.0</td>\n",
       "      <td>0.0</td>\n",
       "    </tr>\n",
       "    <tr>\n",
       "      <th>1</th>\n",
       "      <td>00667485</td>\n",
       "      <td>1.0</td>\n",
       "      <td>0.0</td>\n",
       "      <td>0.0</td>\n",
       "      <td>0.000000e+00</td>\n",
       "      <td>0.00</td>\n",
       "      <td>0.0</td>\n",
       "      <td>688.525868</td>\n",
       "      <td>Web</td>\n",
       "      <td>6.536004</td>\n",
       "      <td>...</td>\n",
       "      <td>0.0</td>\n",
       "      <td>0.0</td>\n",
       "      <td>0.0</td>\n",
       "      <td>0.0</td>\n",
       "      <td>1.0</td>\n",
       "      <td>0.0</td>\n",
       "      <td>0.0</td>\n",
       "      <td>0.0</td>\n",
       "      <td>0.0</td>\n",
       "      <td>0.0</td>\n",
       "    </tr>\n",
       "    <tr>\n",
       "      <th>2</th>\n",
       "      <td>007a1435</td>\n",
       "      <td>1.0</td>\n",
       "      <td>12.0</td>\n",
       "      <td>3.0</td>\n",
       "      <td>9.951514e+06</td>\n",
       "      <td>234.73</td>\n",
       "      <td>221.0</td>\n",
       "      <td>697.083600</td>\n",
       "      <td>Web</td>\n",
       "      <td>6.548339</td>\n",
       "      <td>...</td>\n",
       "      <td>0.0</td>\n",
       "      <td>0.0</td>\n",
       "      <td>0.0</td>\n",
       "      <td>1.0</td>\n",
       "      <td>0.0</td>\n",
       "      <td>0.0</td>\n",
       "      <td>0.0</td>\n",
       "      <td>0.0</td>\n",
       "      <td>0.0</td>\n",
       "      <td>0.0</td>\n",
       "    </tr>\n",
       "    <tr>\n",
       "      <th>3</th>\n",
       "      <td>01c07c64</td>\n",
       "      <td>2.0</td>\n",
       "      <td>0.0</td>\n",
       "      <td>0.0</td>\n",
       "      <td>0.000000e+00</td>\n",
       "      <td>0.00</td>\n",
       "      <td>0.0</td>\n",
       "      <td>521.601752</td>\n",
       "      <td>Web</td>\n",
       "      <td>6.258820</td>\n",
       "      <td>...</td>\n",
       "      <td>0.0</td>\n",
       "      <td>0.0</td>\n",
       "      <td>0.0</td>\n",
       "      <td>0.0</td>\n",
       "      <td>1.0</td>\n",
       "      <td>0.0</td>\n",
       "      <td>0.0</td>\n",
       "      <td>0.0</td>\n",
       "      <td>0.0</td>\n",
       "      <td>0.0</td>\n",
       "    </tr>\n",
       "    <tr>\n",
       "      <th>4</th>\n",
       "      <td>01e9a5cc</td>\n",
       "      <td>4.0</td>\n",
       "      <td>6.0</td>\n",
       "      <td>3.0</td>\n",
       "      <td>0.000000e+00</td>\n",
       "      <td>0.00</td>\n",
       "      <td>0.0</td>\n",
       "      <td>2411.195140</td>\n",
       "      <td>Web</td>\n",
       "      <td>7.788292</td>\n",
       "      <td>...</td>\n",
       "      <td>0.0</td>\n",
       "      <td>0.0</td>\n",
       "      <td>0.0</td>\n",
       "      <td>0.0</td>\n",
       "      <td>0.0</td>\n",
       "      <td>0.0</td>\n",
       "      <td>0.0</td>\n",
       "      <td>1.0</td>\n",
       "      <td>0.0</td>\n",
       "      <td>0.0</td>\n",
       "    </tr>\n",
       "    <tr>\n",
       "      <th>...</th>\n",
       "      <td>...</td>\n",
       "      <td>...</td>\n",
       "      <td>...</td>\n",
       "      <td>...</td>\n",
       "      <td>...</td>\n",
       "      <td>...</td>\n",
       "      <td>...</td>\n",
       "      <td>...</td>\n",
       "      <td>...</td>\n",
       "      <td>...</td>\n",
       "      <td>...</td>\n",
       "      <td>...</td>\n",
       "      <td>...</td>\n",
       "      <td>...</td>\n",
       "      <td>...</td>\n",
       "      <td>...</td>\n",
       "      <td>...</td>\n",
       "      <td>...</td>\n",
       "      <td>...</td>\n",
       "      <td>...</td>\n",
       "      <td>...</td>\n",
       "    </tr>\n",
       "    <tr>\n",
       "      <th>2938</th>\n",
       "      <td>f0ffdf01</td>\n",
       "      <td>0.0</td>\n",
       "      <td>0.0</td>\n",
       "      <td>0.0</td>\n",
       "      <td>0.000000e+00</td>\n",
       "      <td>0.00</td>\n",
       "      <td>0.0</td>\n",
       "      <td>0.000000</td>\n",
       "      <td>0</td>\n",
       "      <td>0.000000</td>\n",
       "      <td>...</td>\n",
       "      <td>0.0</td>\n",
       "      <td>0.0</td>\n",
       "      <td>1.0</td>\n",
       "      <td>0.0</td>\n",
       "      <td>0.0</td>\n",
       "      <td>0.0</td>\n",
       "      <td>0.0</td>\n",
       "      <td>0.0</td>\n",
       "      <td>0.0</td>\n",
       "      <td>0.0</td>\n",
       "    </tr>\n",
       "    <tr>\n",
       "      <th>2939</th>\n",
       "      <td>f29aded4</td>\n",
       "      <td>1.0</td>\n",
       "      <td>0.0</td>\n",
       "      <td>0.0</td>\n",
       "      <td>0.000000e+00</td>\n",
       "      <td>0.00</td>\n",
       "      <td>0.0</td>\n",
       "      <td>0.000000</td>\n",
       "      <td>0</td>\n",
       "      <td>0.000000</td>\n",
       "      <td>...</td>\n",
       "      <td>0.0</td>\n",
       "      <td>0.0</td>\n",
       "      <td>0.0</td>\n",
       "      <td>0.0</td>\n",
       "      <td>0.0</td>\n",
       "      <td>1.0</td>\n",
       "      <td>0.0</td>\n",
       "      <td>0.0</td>\n",
       "      <td>0.0</td>\n",
       "      <td>0.0</td>\n",
       "    </tr>\n",
       "    <tr>\n",
       "      <th>2940</th>\n",
       "      <td>f3b22e76</td>\n",
       "      <td>2.0</td>\n",
       "      <td>0.0</td>\n",
       "      <td>0.0</td>\n",
       "      <td>0.000000e+00</td>\n",
       "      <td>0.00</td>\n",
       "      <td>0.0</td>\n",
       "      <td>0.000000</td>\n",
       "      <td>0</td>\n",
       "      <td>0.000000</td>\n",
       "      <td>...</td>\n",
       "      <td>0.0</td>\n",
       "      <td>0.0</td>\n",
       "      <td>0.0</td>\n",
       "      <td>0.0</td>\n",
       "      <td>0.0</td>\n",
       "      <td>0.0</td>\n",
       "      <td>0.0</td>\n",
       "      <td>1.0</td>\n",
       "      <td>0.0</td>\n",
       "      <td>0.0</td>\n",
       "    </tr>\n",
       "    <tr>\n",
       "      <th>2941</th>\n",
       "      <td>f7052651</td>\n",
       "      <td>1.0</td>\n",
       "      <td>0.0</td>\n",
       "      <td>0.0</td>\n",
       "      <td>0.000000e+00</td>\n",
       "      <td>0.00</td>\n",
       "      <td>0.0</td>\n",
       "      <td>0.000000</td>\n",
       "      <td>0</td>\n",
       "      <td>0.000000</td>\n",
       "      <td>...</td>\n",
       "      <td>0.0</td>\n",
       "      <td>0.0</td>\n",
       "      <td>0.0</td>\n",
       "      <td>0.0</td>\n",
       "      <td>0.0</td>\n",
       "      <td>1.0</td>\n",
       "      <td>0.0</td>\n",
       "      <td>0.0</td>\n",
       "      <td>0.0</td>\n",
       "      <td>0.0</td>\n",
       "    </tr>\n",
       "    <tr>\n",
       "      <th>2942</th>\n",
       "      <td>fcdc04c9</td>\n",
       "      <td>1.0</td>\n",
       "      <td>3.0</td>\n",
       "      <td>1.0</td>\n",
       "      <td>0.000000e+00</td>\n",
       "      <td>0.00</td>\n",
       "      <td>0.0</td>\n",
       "      <td>0.000000</td>\n",
       "      <td>0</td>\n",
       "      <td>0.000000</td>\n",
       "      <td>...</td>\n",
       "      <td>0.0</td>\n",
       "      <td>0.0</td>\n",
       "      <td>0.0</td>\n",
       "      <td>0.0</td>\n",
       "      <td>0.0</td>\n",
       "      <td>0.0</td>\n",
       "      <td>0.0</td>\n",
       "      <td>1.0</td>\n",
       "      <td>0.0</td>\n",
       "      <td>0.0</td>\n",
       "    </tr>\n",
       "  </tbody>\n",
       "</table>\n",
       "<p>2943 rows × 23 columns</p>\n",
       "</div>"
      ],
      "text/plain": [
       "          user  accounts_count  deposit_count  withdrawal_count  \\\n",
       "0     0064320d             2.0            2.0               0.0   \n",
       "1     00667485             1.0            0.0               0.0   \n",
       "2     007a1435             1.0           12.0               3.0   \n",
       "3     01c07c64             2.0            0.0               0.0   \n",
       "4     01e9a5cc             4.0            6.0               3.0   \n",
       "...        ...             ...            ...               ...   \n",
       "2938  f0ffdf01             0.0            0.0               0.0   \n",
       "2939  f29aded4             1.0            0.0               0.0   \n",
       "2940  f3b22e76             2.0            0.0               0.0   \n",
       "2941  f7052651             1.0            0.0               0.0   \n",
       "2942  fcdc04c9             1.0            3.0               1.0   \n",
       "\n",
       "      trade_sum_usd  trade_profit_usd  trades_count      revenue device  \\\n",
       "0      1.690858e+05             61.98          52.0   272.575580    Web   \n",
       "1      0.000000e+00              0.00           0.0   688.525868    Web   \n",
       "2      9.951514e+06            234.73         221.0   697.083600    Web   \n",
       "3      0.000000e+00              0.00           0.0   521.601752    Web   \n",
       "4      0.000000e+00              0.00           0.0  2411.195140    Web   \n",
       "...             ...               ...           ...          ...    ...   \n",
       "2938   0.000000e+00              0.00           0.0     0.000000      0   \n",
       "2939   0.000000e+00              0.00           0.0     0.000000      0   \n",
       "2940   0.000000e+00              0.00           0.0     0.000000      0   \n",
       "2941   0.000000e+00              0.00           0.0     0.000000      0   \n",
       "2942   0.000000e+00              0.00           0.0     0.000000      0   \n",
       "\n",
       "      log_revenue  ...  region_Forgotten Realms  region_Galaxy Far Far Away  \\\n",
       "0        5.611578  ...                      0.0                         0.0   \n",
       "1        6.536004  ...                      0.0                         0.0   \n",
       "2        6.548339  ...                      0.0                         0.0   \n",
       "3        6.258820  ...                      0.0                         0.0   \n",
       "4        7.788292  ...                      0.0                         0.0   \n",
       "...           ...  ...                      ...                         ...   \n",
       "2938     0.000000  ...                      0.0                         0.0   \n",
       "2939     0.000000  ...                      0.0                         0.0   \n",
       "2940     0.000000  ...                      0.0                         0.0   \n",
       "2941     0.000000  ...                      0.0                         0.0   \n",
       "2942     0.000000  ...                      0.0                         0.0   \n",
       "\n",
       "      region_Hyboria  region_Middle-Earth  region_Narnia  region_Neverwinter  \\\n",
       "0                0.0                  1.0            0.0                 0.0   \n",
       "1                0.0                  0.0            1.0                 0.0   \n",
       "2                0.0                  1.0            0.0                 0.0   \n",
       "3                0.0                  0.0            1.0                 0.0   \n",
       "4                0.0                  0.0            0.0                 0.0   \n",
       "...              ...                  ...            ...                 ...   \n",
       "2938             1.0                  0.0            0.0                 0.0   \n",
       "2939             0.0                  0.0            0.0                 1.0   \n",
       "2940             0.0                  0.0            0.0                 0.0   \n",
       "2941             0.0                  0.0            0.0                 1.0   \n",
       "2942             0.0                  0.0            0.0                 0.0   \n",
       "\n",
       "      region_Other  region_Oz  region_Randland  region_Westeros  \n",
       "0              0.0        0.0              0.0              0.0  \n",
       "1              0.0        0.0              0.0              0.0  \n",
       "2              0.0        0.0              0.0              0.0  \n",
       "3              0.0        0.0              0.0              0.0  \n",
       "4              0.0        1.0              0.0              0.0  \n",
       "...            ...        ...              ...              ...  \n",
       "2938           0.0        0.0              0.0              0.0  \n",
       "2939           0.0        0.0              0.0              0.0  \n",
       "2940           0.0        1.0              0.0              0.0  \n",
       "2941           0.0        0.0              0.0              0.0  \n",
       "2942           0.0        1.0              0.0              0.0  \n",
       "\n",
       "[2943 rows x 23 columns]"
      ]
     },
     "execution_count": 523,
     "metadata": {},
     "output_type": "execute_result"
    }
   ],
   "source": [
    "df"
   ]
  },
  {
   "cell_type": "code",
   "execution_count": 524,
   "id": "ddc76181",
   "metadata": {},
   "outputs": [],
   "source": [
    "from sklearn.model_selection import train_test_split"
   ]
  },
  {
   "cell_type": "code",
   "execution_count": 525,
   "id": "9c5b66a5",
   "metadata": {},
   "outputs": [],
   "source": [
    "train_df, test_df = train_test_split(df, test_size=0.3, random_state=42)\n",
    "y_train = train_df[\"log_revenue\"]\n",
    "y_test = test_df[\"log_revenue\"]"
   ]
  },
  {
   "cell_type": "code",
   "execution_count": 526,
   "id": "b469d470",
   "metadata": {},
   "outputs": [
    {
     "name": "stdout",
     "output_type": "stream",
     "text": [
      "Train shape (2060, 23)\n",
      "Test shape (883, 23)\n"
     ]
    }
   ],
   "source": [
    "print(f\"Train shape {train_df.shape}\")\n",
    "print(f\"Test shape {test_df.shape}\")"
   ]
  },
  {
   "cell_type": "code",
   "execution_count": 457,
   "id": "d5b7d27d",
   "metadata": {
    "scrolled": false
   },
   "outputs": [
    {
     "data": {
      "image/png": "[encoded data removed]",
      "text/plain": [
       "<Figure size 864x576 with 1 Axes>"
      ]
     },
     "metadata": {},
     "output_type": "display_data"
    }
   ],
   "source": [
    "fig, ax = plt.subplots(figsize=(12, 8))\n",
    "\n",
    "sns.set_palette(\"bright\", 10)\n",
    "sns.histplot(y, color=\"pink\")\n",
    "\n",
    "ax.set_title('Target distribution', fontsize=20)\n",
    "\n",
    "plt.tick_params(labelsize=14)"
   ]
  },
  {
   "cell_type": "markdown",
   "id": "29409911",
   "metadata": {},
   "source": [
    "### Трейдерская активность"
   ]
  },
  {
   "cell_type": "code",
   "execution_count": 539,
   "id": "0ab0a608",
   "metadata": {},
   "outputs": [
    {
     "data": {
      "image/png": "[encoded data removed]",
      "text/plain": [
       "<Figure size 864x576 with 1 Axes>"
      ]
     },
     "metadata": {},
     "output_type": "display_data"
    }
   ],
   "source": [
    "fig, ax = plt.subplots(figsize=(12, 8))\n",
    "\n",
    "sns.set_palette(\"bright\", 10)\n",
    "sns.scatterplot(data=df, x=\"trades_count\", y=\"revenue\", size=\"trade_sum_usd\", sizes=(40, 100))\n",
    "\n",
    "plt.tick_params(labelsize=14)"
   ]
  },
  {
   "cell_type": "code",
   "execution_count": 527,
   "id": "c8094ff2",
   "metadata": {},
   "outputs": [],
   "source": [
    "from sklearn.linear_model import LinearRegression\n",
    "from sklearn.base import BaseEstimator\n",
    "\n",
    "class CustomLinearModel(BaseEstimator):\n",
    "    \"\"\"\n",
    "    Wrapper class for custom linear model\n",
    "    \"\"\"\n",
    "\n",
    "    def __init__(self):\n",
    "        self.model = LinearRegression()\n",
    "\n",
    "    def fit(self, X, y=None):\n",
    "        self.model.fit(X, y)\n",
    "\n",
    "        return self\n",
    "\n",
    "    def predict(self, X):\n",
    "        predictions = self.model.predict(X)\n",
    "\n",
    "        return predictions\n",
    "    \n",
    "class MedianModel(BaseEstimator):\n",
    "    def __init__(self):\n",
    "        self.median = 0\n",
    "\n",
    "    def fit(self, X, y=None):\n",
    "        self.median = y.median()\n",
    "        return self\n",
    "\n",
    "    def predict(self, X):\n",
    "        return np.ones(shape=(X.shape[0],)) * self.median"
   ]
  },
  {
   "cell_type": "code",
   "execution_count": 440,
   "id": "87b429c2",
   "metadata": {},
   "outputs": [],
   "source": [
    "median_model = MedianModel()"
   ]
  },
  {
   "cell_type": "code",
   "execution_count": 441,
   "id": "2edda059",
   "metadata": {},
   "outputs": [
    {
     "data": {
      "text/plain": [
       "MedianModel()"
      ]
     },
     "execution_count": 441,
     "metadata": {},
     "output_type": "execute_result"
    }
   ],
   "source": [
    "median_model.fit(train_df.drop([\"user\", \"revenue\", \"device\", \"region\", \"log_revenue\"], axis=1), y_train)"
   ]
  },
  {
   "cell_type": "code",
   "execution_count": 442,
   "id": "557172e3",
   "metadata": {},
   "outputs": [],
   "source": [
    "pred = median_model.predict(test_df.drop([\"user\", \"revenue\", \"device\", \"region\", \"log_revenue\", \\\n",
    "                                   \"trade_sum_usd\", \"withdrawal_count\"], axis=1))"
   ]
  },
  {
   "cell_type": "code",
   "execution_count": null,
   "id": "3dcfbd03",
   "metadata": {},
   "outputs": [],
   "source": []
  },
  {
   "cell_type": "code",
   "execution_count": 528,
   "id": "f1f6cab2",
   "metadata": {},
   "outputs": [],
   "source": [
    "model = CustomLinearModel()"
   ]
  },
  {
   "cell_type": "code",
   "execution_count": 529,
   "id": "4f188ccf",
   "metadata": {},
   "outputs": [],
   "source": [
    "train_df[\"trade_profit_usd\"] = train_df[\"trade_profit_usd\"].fillna(0)\n",
    "test_df[\"trade_profit_usd\"] = test_df[\"trade_profit_usd\"].fillna(0)\n",
    "\n",
    "for col in [\"trade_profit_usd\", \"trade_sum_usd\", \"trades_count\"]:\n",
    "    train_df[col] = np.log(train_df[col] + 1)\n",
    "    test_df[col] = np.log(test_df[col] + 1)"
   ]
  },
  {
   "cell_type": "code",
   "execution_count": 530,
   "id": "0ba47096",
   "metadata": {},
   "outputs": [
    {
     "data": {
      "text/plain": [
       "CustomLinearModel()"
      ]
     },
     "execution_count": 530,
     "metadata": {},
     "output_type": "execute_result"
    }
   ],
   "source": [
    "model.fit(train_df.drop([\"user\", \"revenue\", \"device\", \"log_revenue\", \\\n",
    "                         \"trade_sum_usd\", \"withdrawal_count\"], axis=1), y_train)"
   ]
  },
  {
   "cell_type": "code",
   "execution_count": 531,
   "id": "912fcd7f",
   "metadata": {},
   "outputs": [],
   "source": [
    "pred = model.predict(test_df.drop([\"user\", \"revenue\", \"device\", \"log_revenue\", \\\n",
    "                                   \"trade_sum_usd\", \"withdrawal_count\"], axis=1))"
   ]
  },
  {
   "cell_type": "code",
   "execution_count": 462,
   "id": "a365ddc6",
   "metadata": {},
   "outputs": [],
   "source": [
    "from sklearn.metrics import mean_absolute_error, mean_squared_error"
   ]
  },
  {
   "cell_type": "code",
   "execution_count": 532,
   "id": "3650123c",
   "metadata": {},
   "outputs": [
    {
     "data": {
      "text/plain": [
       "455.782650915144"
      ]
     },
     "execution_count": 532,
     "metadata": {},
     "output_type": "execute_result"
    }
   ],
   "source": [
    "mean_absolute_error(test_df[\"revenue\"], np.exp(pred))"
   ]
  },
  {
   "cell_type": "code",
   "execution_count": 464,
   "id": "a6253464",
   "metadata": {},
   "outputs": [
    {
     "data": {
      "image/png": "[encoded data removed]",
      "text/plain": [
       "<Figure size 864x576 with 1 Axes>"
      ]
     },
     "metadata": {},
     "output_type": "display_data"
    }
   ],
   "source": [
    "fig, ax = plt.subplots(figsize=(12, 8))\n",
    "\n",
    "sns.set_palette(\"bright\", 10)\n",
    "sns.scatterplot(x=test_df[\"revenue\"], y=np.exp(pred))\n",
    "\n",
    "plt.tick_params(labelsize=14)"
   ]
  },
  {
   "cell_type": "code",
   "execution_count": 278,
   "id": "db2a751d",
   "metadata": {},
   "outputs": [
    {
     "data": {
      "text/plain": [
       "array([3.89856111e-01, 2.84263049e-01, 4.46985104e-05, 2.76963956e-03])"
      ]
     },
     "execution_count": 278,
     "metadata": {},
     "output_type": "execute_result"
    }
   ],
   "source": [
    "model.model.coef_"
   ]
  },
  {
   "cell_type": "code",
   "execution_count": 332,
   "id": "8cfd076f",
   "metadata": {},
   "outputs": [
    {
     "data": {
      "text/plain": [
       "20.960224519665864"
      ]
     },
     "execution_count": 332,
     "metadata": {},
     "output_type": "execute_result"
    }
   ],
   "source": [
    "pred[pred.argmax()]"
   ]
  },
  {
   "cell_type": "code",
   "execution_count": 333,
   "id": "418673a2",
   "metadata": {},
   "outputs": [],
   "source": [
    "test_df[\"prediction\"] = pred"
   ]
  },
  {
   "cell_type": "code",
   "execution_count": 334,
   "id": "5d28e382",
   "metadata": {},
   "outputs": [
    {
     "data": {
      "text/plain": [
       "user                           23a9a1e8\n",
       "accounts_count                      2.0\n",
       "deposit_count                      71.0\n",
       "withdrawal_count                   24.0\n",
       "trade_sum_usd             3052573.81185\n",
       "trade_profit_usd                 539.27\n",
       "trades_count                      182.0\n",
       "revenue                        198.4242\n",
       "region              Galaxy Far Far Away\n",
       "device                                0\n",
       "log_revenue                    5.295434\n",
       "prediction                    20.960225\n",
       "Name: 507, dtype: object"
      ]
     },
     "execution_count": 334,
     "metadata": {},
     "output_type": "execute_result"
    }
   ],
   "source": [
    "test_df.iloc[pred.argmax()]"
   ]
  },
  {
   "cell_type": "code",
   "execution_count": null,
   "id": "0f483f19",
   "metadata": {},
   "outputs": [],
   "source": []
  },
  {
   "cell_type": "code",
   "execution_count": null,
   "id": "677896b1",
   "metadata": {},
   "outputs": [],
   "source": []
  },
  {
   "cell_type": "code",
   "execution_count": 294,
   "id": "048270f8",
   "metadata": {},
   "outputs": [
    {
     "data": {
      "text/plain": [
       "<AxesSubplot:>"
      ]
     },
     "execution_count": 294,
     "metadata": {},
     "output_type": "execute_result"
    },
    {
     "data": {
      "image/png": "[encoded data removed]",
      "text/plain": [
       "<Figure size 432x288 with 2 Axes>"
      ]
     },
     "metadata": {},
     "output_type": "display_data"
    }
   ],
   "source": [
    "# plotting correlation heatmap\n",
    "sns.heatmap(train_df.drop([\"user\", \"device\", \"region\", \"log_revenue\"], axis=1).corr(), cmap=\"YlGnBu\", annot=True)"
   ]
  },
  {
   "cell_type": "code",
   "execution_count": null,
   "id": "2512f472",
   "metadata": {},
   "outputs": [],
   "source": []
  },
  {
   "cell_type": "code",
   "execution_count": 174,
   "id": "f7cdb078",
   "metadata": {},
   "outputs": [
    {
     "data": {
      "text/plain": [
       "840       0.000000\n",
       "1037      0.000000\n",
       "2399      0.000000\n",
       "678       0.000000\n",
       "196     225.076199\n",
       "           ...    \n",
       "1916      0.000000\n",
       "714       0.000000\n",
       "803       0.000000\n",
       "1316      0.000000\n",
       "1462      0.000000\n",
       "Name: revenue, Length: 883, dtype: float64"
      ]
     },
     "execution_count": 174,
     "metadata": {},
     "output_type": "execute_result"
    }
   ],
   "source": [
    "test_df[\"revenue\"]"
   ]
  },
  {
   "cell_type": "code",
   "execution_count": 175,
   "id": "8c0a9eaf",
   "metadata": {},
   "outputs": [
    {
     "data": {
      "text/plain": [
       "271.91486243984"
      ]
     },
     "execution_count": 175,
     "metadata": {},
     "output_type": "execute_result"
    }
   ],
   "source": [
    "test_df[\"revenue\"].sum() / 883"
   ]
  },
  {
   "cell_type": "code",
   "execution_count": null,
   "id": "8813421e",
   "metadata": {},
   "outputs": [],
   "source": [
    "mean_absolute_error(y_test, pred)"
   ]
  }
 ],
 "metadata": {
  "kernelspec": {
   "display_name": "Python 3 (ipykernel)",
   "language": "python",
   "name": "python3"
  },
  "language_info": {
   "codemirror_mode": {
    "name": "ipython",
    "version": 3
   },
   "file_extension": ".py",
   "mimetype": "text/x-python",
   "name": "python",
   "nbconvert_exporter": "python",
   "pygments_lexer": "ipython3",
   "version": "3.9.7"
  }
 },
 "nbformat": 4,
 "nbformat_minor": 5
}
